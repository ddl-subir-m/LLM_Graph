{
 "cells": [
  {
   "cell_type": "code",
   "execution_count": 12,
   "id": "bd0bfe09-e73f-4b8f-ad01-bc687a5d0e02",
   "metadata": {},
   "outputs": [],
   "source": [
    "from langchain_community.graphs import Neo4jGraph\n",
    "from langchain.prompts.prompt import PromptTemplate\n",
    "from langchain.chains import GraphCypherQAChain\n",
    "from langchain_openai import ChatOpenAI, OpenAI\n",
    "\n",
    "import os\n",
    "import textwrap"
   ]
  },
  {
   "cell_type": "code",
   "execution_count": 13,
   "id": "37e00e33-8ccd-4ab5-a6c3-a73478de1f9b",
   "metadata": {},
   "outputs": [],
   "source": [
    "# Load from environment\n",
    "NEO4J_URI = os.getenv('NEO4J_URI')\n",
    "NEO4J_USERNAME = os.getenv('NEO4J_USERNAME')\n",
    "NEO4J_PASSWORD = os.getenv('NEO4J_PASSWORD')\n",
    "OPENAI_API_KEY = os.getenv('OPENAI_API_KEY')\n",
    "NEO4J_DATABASE = os.getenv('NEO4J_DATABASE') or 'neo4j'"
   ]
  },
  {
   "cell_type": "code",
   "execution_count": 14,
   "id": "8ea70854-dc22-40fc-8537-1ef93b00a001",
   "metadata": {},
   "outputs": [],
   "source": [
    "kg = Neo4jGraph(\n",
    "    url=NEO4J_URI, username=NEO4J_USERNAME, password=NEO4J_PASSWORD\n",
    ")"
   ]
  },
  {
   "cell_type": "code",
   "execution_count": 15,
   "id": "aee034ad-b943-402e-9ec3-a49cc4ef18c1",
   "metadata": {},
   "outputs": [
    {
     "name": "stdout",
     "output_type": "stream",
     "text": [
      "Node properties are the following: Movie {id: STRING,\n",
      "duration: STRING, listed_in: STRING, date_added: STRING,\n",
      "release_year: STRING, rating: STRING, description: STRING,\n",
      "title: STRING},Person {name: STRING},Type {type:\n",
      "STRING},Country {name: STRING},Year {value:\n",
      "INTEGER},Category {name: STRING} Relationship properties are\n",
      "the following:  The relationships are the following: (:Movie\n",
      ")-[:TYPED_AS]->(:Type),(:Movie)-[:WHERE]->(:Country),(:Movie\n",
      ")-[:CREATED_ON]->(:Year),(:Movie)-[:IN_CATEGORY]->(:Category\n",
      "),(:Person)-[:ACTED_IN]->(:Movie),(:Person)-[:WORK_WITH]->(:\n",
      "Person),(:Person)-[:DIRECTED]->(:Movie),(:Year)-[:NEXT]->(:Y\n",
      "ear)\n"
     ]
    }
   ],
   "source": [
    "# Check the graph schema\n",
    "kg.refresh_schema()\n",
    "print(textwrap.fill(kg.schema, 60))"
   ]
  },
  {
   "cell_type": "code",
   "execution_count": 124,
   "id": "6741b5be-ab5a-44a5-a370-4ce8d1a762f5",
   "metadata": {},
   "outputs": [],
   "source": [
    "CYPHER_GENERATION_TEMPLATE = \"\"\"Task:Generate Cypher statement to query a graph database.\n",
    "Instructions:\n",
    "Use only the provided relationship types and properties in the schema.\n",
    "Do not use any other relationship types or properties that are not provided.\n",
    "Schema:\n",
    "{schema}\n",
    "Note: Do not include any explanations or apologies in your responses.\n",
    "Do not respond to any questions that might ask anything else than for you to construct a Cypher statement.\n",
    "Do not include any text except the generated Cypher statement.\n",
    "Examples: Here are a few examples of generated Cypher statements for particular questions:\n",
    "\n",
    "# How many people starred in Top Gun?\n",
    "MATCH (m:Movie {{title:\"Top Gun\"}})<-[:ACTED_IN]-()\n",
    "RETURN count(*) AS numberOfActors\n",
    "\n",
    "# What are the most popular movie categories\n",
    "MATCH (m:Movie)-[:IN_CATEGORY]->(c:Category)\n",
    "WITH c.name AS Category, COUNT(m) AS MoviesCount\n",
    "RETURN Category, MoviesCount\n",
    "ORDER BY MoviesCount DESC\n",
    "\n",
    "# All the movies Keanu Reeves acted in\n",
    "MATCH (p:Person {{name: \"Keanu Reeves\"}})-[:ACTED_IN]->(m:Movie)\n",
    "RETURN m.title AS Movie, m.release_year AS ReleaseYear\n",
    "ORDER BY m.release_year DESC\n",
    "\n",
    "# all persons who have acted in at least one movie with Keanu Reeves\n",
    "MATCH (p:Person {{name: \"Keanu Reeves\"}})-[:ACTED_IN]->(m:Movie)<-[:ACTED_IN]-(coActors)\n",
    "WHERE p.name <> coActors.name\n",
    "RETURN DISTINCT coActors.name AS CoActor\n",
    "\n",
    "# Find pairs of actors who have worked together in more than one movie\n",
    "MATCH (p1:Person)-[:ACTED_IN]->(m:Movie)<-[:ACTED_IN]-(p2:Person)\n",
    "WHERE p1.name < p2.name\n",
    "WITH p1, p2, COUNT(m) AS sharedMovies\n",
    "WHERE sharedMovies > 1\n",
    "RETURN p1.name AS Actor1, p2.name AS Actor2, sharedMovies\n",
    "ORDER BY sharedMovies DESC\n",
    "\n",
    "# Retrieve movies along with their categories.\n",
    "MATCH (m:Movie)-[:IN_CATEGORY]->(c:Category)\n",
    "RETURN m.title AS Movie, collect(c.name) AS Categories\n",
    "\n",
    "# Find Movies Directed by Actors\n",
    "MATCH (p:Person)-[:DIRECTED]->(m:Movie), (p)-[:ACTED_IN]->(m2:Movie)\n",
    "RETURN p.name AS Person, m.title AS DirectedMovie, m2.title AS ActedInMovie\n",
    "\n",
    "# Find movies released in a United States grouped by their release year\n",
    "MATCH (m:Movie)-[:WHERE]->(c:Country {{name: \"United States\"}})\n",
    "RETURN m.release_year AS ReleaseYear, collect(m.title) AS Movies\n",
    "ORDER BY m.release_year\n",
    "\n",
    "# Which actors have worked with Keanu Reeves in more than 2 movies and list the movies\n",
    "MATCH (p1:Person)-[:ACTED_IN]->(m:Movie)<-[:ACTED_IN]-(p2:Person)\n",
    "WHERE p1.name = \"Keanu Reeves\" AND p1.name <> p2.name\n",
    "WITH p1, p2, collect(m.title) AS Movies, COUNT(m) AS sharedMovies\n",
    "WHERE sharedMovies > 2\n",
    "RETURN p2.name AS Actor, Movies\n",
    "ORDER BY sharedMovies DESC\n",
    "\n",
    "The question is:\n",
    "{question}\"\"\""
   ]
  },
  {
   "cell_type": "code",
   "execution_count": 125,
   "id": "a6e3f797-090d-4691-ad95-d0bc6adfe5b4",
   "metadata": {},
   "outputs": [],
   "source": [
    "CYPHER_GENERATION_PROMPT = PromptTemplate(\n",
    "    input_variables=[\"schema\", \"question\"], \n",
    "    template=CYPHER_GENERATION_TEMPLATE\n",
    ")"
   ]
  },
  {
   "cell_type": "code",
   "execution_count": 126,
   "id": "5c44eb7e-b5f4-4003-be4e-9932e95b147f",
   "metadata": {},
   "outputs": [],
   "source": [
    "cypherChain = GraphCypherQAChain.from_llm(\n",
    "    OpenAI(temperature=0),\n",
    "    graph=kg,\n",
    "    verbose=True,\n",
    "    cypher_prompt=CYPHER_GENERATION_PROMPT,\n",
    ")"
   ]
  },
  {
   "cell_type": "code",
   "execution_count": 127,
   "id": "37c32692-7a21-4952-8bcf-64674dd2cbbb",
   "metadata": {},
   "outputs": [
    {
     "name": "stdout",
     "output_type": "stream",
     "text": [
      "\n",
      "\n",
      "\u001b[1m> Entering new GraphCypherQAChain chain...\u001b[0m\n",
      "Generated Cypher:\n",
      "\u001b[32;1m\u001b[1;3m\n",
      "\n",
      "MATCH (p1:Person)-[:ACTED_IN]->(m:Movie)<-[:ACTED_IN]-(p2:Person)\n",
      "WHERE p1.name = \"Keanu Reeves\" AND p1.name <> p2.name\n",
      "WITH p1, p2, collect(m.title) AS Movies, COUNT(m) AS sharedMovies\n",
      "WHERE sharedMovies > 2\n",
      "RETURN p2.name AS Actor, Movies\n",
      "ORDER BY sharedMovies DESC\u001b[0m\n",
      "Full Context:\n",
      "\u001b[32;1m\u001b[1;3m[{'Actor': 'Laurence Fishburne', 'Movies': ['The Matrix', 'The Matrix Reloaded', 'The Matrix Revolutions']}, {'Actor': 'Hugo Weaving', 'Movies': ['The Matrix', 'The Matrix Reloaded', 'The Matrix Revolutions']}, {'Actor': 'Carrie-Anne Moss', 'Movies': ['The Matrix', 'The Matrix Reloaded', 'The Matrix Revolutions']}]\u001b[0m\n",
      "\n",
      "\u001b[1m> Finished chain.\u001b[0m\n"
     ]
    },
    {
     "data": {
      "text/plain": [
       "{'query': 'Which actors have worked with Keanu Reeves in more than 2 movies and list the movies',\n",
       " 'result': '\\nLaurence Fishburne has worked with Keanu Reeves in The Matrix, The Matrix Reloaded, and The Matrix Revolutions. Hugo Weaving has also worked with Keanu Reeves in The Matrix, The Matrix Reloaded, and The Matrix Revolutions. Carrie-Anne Moss has also worked with Keanu Reeves in The Matrix, The Matrix Reloaded, and The Matrix Revolutions.'}"
      ]
     },
     "execution_count": 127,
     "metadata": {},
     "output_type": "execute_result"
    }
   ],
   "source": [
    "cypherChain.invoke(\"Which actors have worked with Keanu Reeves in more than 2 movies and list the movies\")"
   ]
  },
  {
   "cell_type": "code",
   "execution_count": null,
   "id": "a6614401-19c4-42ea-b01e-9acc2a8e7dfc",
   "metadata": {},
   "outputs": [],
   "source": []
  }
 ],
 "metadata": {
  "kernelspec": {
   "display_name": "Python 3 (ipykernel)",
   "language": "python",
   "name": "python3"
  },
  "language_info": {
   "codemirror_mode": {
    "name": "ipython",
    "version": 3
   },
   "file_extension": ".py",
   "mimetype": "text/x-python",
   "name": "python",
   "nbconvert_exporter": "python",
   "pygments_lexer": "ipython3",
   "version": "3.9.18"
  }
 },
 "nbformat": 4,
 "nbformat_minor": 5
}
