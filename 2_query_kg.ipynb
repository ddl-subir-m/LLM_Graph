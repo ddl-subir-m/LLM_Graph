{
 "cells": [
  {
   "cell_type": "code",
   "execution_count": null,
   "id": "bd0bfe09-e73f-4b8f-ad01-bc687a5d0e02",
   "metadata": {},
   "outputs": [],
   "source": [
    "from langchain_community.graphs import Neo4jGraph\n",
    "from langchain.prompts.prompt import PromptTemplate\n",
    "from langchain.chains import GraphCypherQAChain\n",
    "from langchain_openai import ChatOpenAI, OpenAI\n",
    "\n",
    "import os\n",
    "import textwrap"
   ]
  },
  {
   "cell_type": "code",
   "execution_count": null,
   "id": "37e00e33-8ccd-4ab5-a6c3-a73478de1f9b",
   "metadata": {},
   "outputs": [],
   "source": [
    "# Load from environment\n",
    "NEO4J_URI = os.getenv('NEO4J_URI')\n",
    "NEO4J_USERNAME = os.getenv('NEO4J_USERNAME')\n",
    "NEO4J_PASSWORD = os.getenv('NEO4J_PASSWORD')\n",
    "OPENAI_API_KEY = os.getenv('OPENAI_API_KEY')\n",
    "NEO4J_DATABASE = os.getenv('NEO4J_DATABASE') or 'neo4j'"
   ]
  },
  {
   "cell_type": "code",
   "execution_count": null,
   "id": "8ea70854-dc22-40fc-8537-1ef93b00a001",
   "metadata": {},
   "outputs": [],
   "source": [
    "kg = Neo4jGraph(\n",
    "    url=NEO4J_URI, username=NEO4J_USERNAME, password=NEO4J_PASSWORD\n",
    ")"
   ]
  },
  {
   "cell_type": "code",
   "execution_count": null,
   "id": "aee034ad-b943-402e-9ec3-a49cc4ef18c1",
   "metadata": {},
   "outputs": [],
   "source": [
    "# Check the graph schema\n",
    "kg.refresh_schema()\n",
    "print(textwrap.fill(kg.schema, 60))"
   ]
  },
  {
   "cell_type": "code",
   "execution_count": null,
   "id": "6741b5be-ab5a-44a5-a370-4ce8d1a762f5",
   "metadata": {},
   "outputs": [],
   "source": [
    "CYPHER_GENERATION_TEMPLATE = \"\"\"Task:Generate Cypher statement to query a graph database.\n",
    "Instructions:\n",
    "Use only the provided relationship types and properties in the schema.\n",
    "Do not use any other relationship types or properties that are not provided.\n",
    "Schema:\n",
    "{schema}\n",
    "Note: Do not include any explanations or apologies in your responses.\n",
    "Do not respond to any questions that might ask anything else than for you to construct a Cypher statement.\n",
    "Do not include any text except the generated Cypher statement.\n",
    "Examples: Here are a few examples of generated Cypher statements for particular questions:\n",
    "\n",
    "# What are the most popular movie categories\n",
    "MATCH (m:Movie)-[:IN_CATEGORY]->(c:Category)\n",
    "WITH c.name AS Category, COUNT(m) AS MoviesCount\n",
    "RETURN Category, MoviesCount\n",
    "ORDER BY MoviesCount DESC\n",
    "\n",
    "# Find pairs of actors who have worked together in more than one movie\n",
    "MATCH (p1:Person)-[:ACTED_IN]->(m:Movie)<-[:ACTED_IN]-(p2:Person)\n",
    "WHERE p1.name < p2.name\n",
    "WITH p1, p2, COUNT(m) AS sharedMovies\n",
    "WHERE sharedMovies > 1\n",
    "RETURN p1.name AS Actor1, p2.name AS Actor2, sharedMovies\n",
    "ORDER BY sharedMovies DESC\n",
    "\n",
    "# Get movies released in the United States, grouped by the release year\n",
    "MATCH (m:Movie)-[:WHERE]->(c:Country {name: \"United States\"})\n",
    "RETURN m.release_year AS ReleaseYear, collect(m.title) AS Movies\n",
    "ORDER BY m.release_year\n",
    "\n",
    "# Find all persons who have acted in at least one movie with Keanu Reeves\n",
    "MATCH (p:Person {name: \"Keanu Reeves\"})-[:ACTED_IN]->(m:Movie)<-[:ACTED_IN]-(coActors)\n",
    "WHERE p.name <> coActors.name\n",
    "RETURN DISTINCT coActors.name AS CoActor\n",
    "\n",
    "# Generate 10 movie recommendations for Stranger Things\n",
    "MATCH (a:Movie {title:\"Stranger Things\"} )-[*2]-(b:Movie)\n",
    "WHERE a <> b AND a.title < b.title\n",
    "WITH DISTINCT a,b\n",
    "RETURN a.title as title, b.title as recommendation, algo.linkprediction.adamicAdar(a, b) AS score\n",
    "ORDER BY score DESC\n",
    "LIMIT 10\n",
    "\n",
    "The question is:\n",
    "{question}\"\"\""
   ]
  },
  {
   "cell_type": "code",
   "execution_count": null,
   "id": "a6e3f797-090d-4691-ad95-d0bc6adfe5b4",
   "metadata": {},
   "outputs": [],
   "source": [
    "CYPHER_GENERATION_PROMPT = PromptTemplate(\n",
    "    input_variables=[\"schema\", \"question\"], \n",
    "    template=CYPHER_GENERATION_TEMPLATE\n",
    ")"
   ]
  },
  {
   "cell_type": "code",
   "execution_count": null,
   "id": "5c44eb7e-b5f4-4003-be4e-9932e95b147f",
   "metadata": {},
   "outputs": [],
   "source": [
    "cypherChain = GraphCypherQAChain.from_llm(\n",
    "    OpenAI(temperature=0, openai_api_key=OPENAI_API_KEY),\n",
    "    graph=kg,\n",
    "    verbose=True,\n",
    "    cypher_prompt=CYPHER_GENERATION_PROMPT,\n",
    ")"
   ]
  },
  {
   "cell_type": "code",
   "execution_count": null,
   "id": "f29f1f2b-dfbd-4f2e-afe7-975d106c2c5a",
   "metadata": {},
   "outputs": [],
   "source": [
    "def prettyCypherChain(question: str) -> str:\n",
    "    response = cypherChain.run(question)\n",
    "    print(textwrap.fill(response, 60))"
   ]
  },
  {
   "cell_type": "code",
   "execution_count": null,
   "id": "37c32692-7a21-4952-8bcf-64674dd2cbbb",
   "metadata": {},
   "outputs": [],
   "source": [
    "prettyCypherChain(\"How many movies were released in 2012?\")"
   ]
  },
  {
   "cell_type": "code",
   "execution_count": null,
   "id": "b3f193c8-64a3-4e65-bf6d-2e0257f1c97d",
   "metadata": {},
   "outputs": [],
   "source": []
  }
 ],
 "metadata": {
  "kernelspec": {
   "display_name": "Python 3 (ipykernel)",
   "language": "python",
   "name": "python3"
  },
  "language_info": {
   "codemirror_mode": {
    "name": "ipython",
    "version": 3
   },
   "file_extension": ".py",
   "mimetype": "text/x-python",
   "name": "python",
   "nbconvert_exporter": "python",
   "pygments_lexer": "ipython3",
   "version": "3.9.18"
  }
 },
 "nbformat": 4,
 "nbformat_minor": 5
}
